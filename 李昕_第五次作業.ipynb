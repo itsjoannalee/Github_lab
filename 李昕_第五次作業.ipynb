{
  "nbformat": 4,
  "nbformat_minor": 0,
  "metadata": {
    "colab": {
      "name": "李昕_第五次作業.ipynb",
      "provenance": [],
      "collapsed_sections": [],
      "authorship_tag": "ABX9TyMN8M8wJhf/YE83c3wgcXaU",
      "include_colab_link": true
    },
    "kernelspec": {
      "name": "python3",
      "display_name": "Python 3"
    },
    "language_info": {
      "name": "python"
    }
  },
  "cells": [
    {
      "cell_type": "markdown",
      "metadata": {
        "id": "view-in-github",
        "colab_type": "text"
      },
      "source": [
        "<a href=\"https://colab.research.google.com/github/itsjoannalee/Github_lab/blob/main/%E6%9D%8E%E6%98%95_%E7%AC%AC%E4%BA%94%E6%AC%A1%E4%BD%9C%E6%A5%AD.ipynb\" target=\"_parent\"><img src=\"https://colab.research.google.com/assets/colab-badge.svg\" alt=\"Open In Colab\"/></a>"
      ]
    },
    {
      "cell_type": "markdown",
      "source": [
        "第二題：算閏年"
      ],
      "metadata": {
        "id": "ckfHw1tSW9VG"
      }
    },
    {
      "cell_type": "markdown",
      "source": [
        "判斷1900是否為閏年"
      ],
      "metadata": {
        "id": "TJ9tL7jaaocp"
      }
    },
    {
      "cell_type": "code",
      "execution_count": null,
      "metadata": {
        "colab": {
          "base_uri": "https://localhost:8080/"
        },
        "id": "qZatnV6jW7p6",
        "outputId": "656f1dd5-e5c0-45ee-a6e4-0561f9795d13"
      },
      "outputs": [
        {
          "output_type": "stream",
          "name": "stdout",
          "text": [
            "請輸入一個年份:1900\n",
            "1900年不是閏年\n"
          ]
        }
      ],
      "source": [
        "year = int(input(\"請輸入一個年份:\"))\n",
        "if (year % 4) == 0 and (year % 100) !=0 or (year % 400) == 0:\n",
        "    print(\"{}年是閏年\".format(year))\n",
        "else:\n",
        "    print(\"{}年不是閏年\".format(year))"
      ]
    },
    {
      "cell_type": "markdown",
      "source": [
        "判斷2004是否為閏年"
      ],
      "metadata": {
        "id": "1vP4RB-waudE"
      }
    },
    {
      "cell_type": "code",
      "source": [
        "year = int(input(\"請輸入一個年份:\"))\n",
        "if (year % 4) == 0 and (year % 100) !=0 or (year % 400) == 0:\n",
        "    print(\"{}年是閏年\".format(year))\n",
        "else:\n",
        "    print(\"{}年不是閏年\".format(year))"
      ],
      "metadata": {
        "colab": {
          "base_uri": "https://localhost:8080/"
        },
        "id": "UBvx1Qw5aWgr",
        "outputId": "acf04463-5572-4741-cd43-5516c6a35959"
      },
      "execution_count": null,
      "outputs": [
        {
          "output_type": "stream",
          "name": "stdout",
          "text": [
            "請輸入一個年份:2004\n",
            "2004年是閏年\n"
          ]
        }
      ]
    }
  ]
}