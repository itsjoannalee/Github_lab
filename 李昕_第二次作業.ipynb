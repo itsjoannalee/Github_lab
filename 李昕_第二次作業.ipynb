{
  "nbformat": 4,
  "nbformat_minor": 0,
  "metadata": {
    "colab": {
      "name": "李昕_第二次作業.ipynb",
      "provenance": [],
      "collapsed_sections": [],
      "authorship_tag": "ABX9TyN0saRJe0x2naGT2Q/ZDewr",
      "include_colab_link": true
    },
    "kernelspec": {
      "name": "python3",
      "display_name": "Python 3"
    },
    "language_info": {
      "name": "python"
    }
  },
  "cells": [
    {
      "cell_type": "markdown",
      "metadata": {
        "id": "view-in-github",
        "colab_type": "text"
      },
      "source": [
        "<a href=\"https://colab.research.google.com/github/itsjoannalee/Github_lab/blob/main/%E6%9D%8E%E6%98%95_%E7%AC%AC%E4%BA%8C%E6%AC%A1%E4%BD%9C%E6%A5%AD.ipynb\" target=\"_parent\"><img src=\"https://colab.research.google.com/assets/colab-badge.svg\" alt=\"Open In Colab\"/></a>"
      ]
    },
    {
      "cell_type": "markdown",
      "source": [
        "挑戰題一：寫個函數讓字串倒過來排"
      ],
      "metadata": {
        "id": "o8Zg2uJtSsN3"
      }
    },
    {
      "cell_type": "code",
      "source": [
        "def reverse(x):\n",
        "  x=x[::-1]\n",
        "  return x"
      ],
      "metadata": {
        "id": "PYXLkZr5RxFU"
      },
      "execution_count": null,
      "outputs": []
    },
    {
      "cell_type": "code",
      "source": [
        "reverse(\"hello world\")"
      ],
      "metadata": {
        "colab": {
          "base_uri": "https://localhost:8080/",
          "height": 35
        },
        "id": "TFIrE6HrSdFJ",
        "outputId": "d0fcf376-5915-43a0-a6f4-81857010d45d"
      },
      "execution_count": null,
      "outputs": [
        {
          "output_type": "execute_result",
          "data": {
            "text/plain": [
              "'dlrow olleh'"
            ],
            "application/vnd.google.colaboratory.intrinsic+json": {
              "type": "string"
            }
          },
          "metadata": {},
          "execution_count": 28
        }
      ]
    },
    {
      "cell_type": "markdown",
      "source": [
        "挑戰題二：我有一棵樹"
      ],
      "metadata": {
        "id": "1npHalu-P6R4"
      }
    },
    {
      "cell_type": "code",
      "source": [
        "def tree(x):\n",
        "  for i in range(1,x+1):\n",
        "    print(\" \"*(x-i)+\"*\"*(2*i-1))\n",
        "  for i in range(1,x+1): \n",
        "    print(\" \"*(x-1)+\"*\")\n",
        "    "
      ],
      "metadata": {
        "id": "dIulc0MkLwzO"
      },
      "execution_count": null,
      "outputs": []
    },
    {
      "cell_type": "code",
      "source": [
        "tree(5)"
      ],
      "metadata": {
        "colab": {
          "base_uri": "https://localhost:8080/"
        },
        "id": "MYx8sRwTMSBv",
        "outputId": "47d45d03-d14d-40c8-ea32-370b40b5f900"
      },
      "execution_count": null,
      "outputs": [
        {
          "output_type": "stream",
          "name": "stdout",
          "text": [
            "    *\n",
            "   ***\n",
            "  *****\n",
            " *******\n",
            "*********\n",
            "    *\n",
            "    *\n",
            "    *\n",
            "    *\n",
            "    *\n"
          ]
        }
      ]
    }
  ]
}